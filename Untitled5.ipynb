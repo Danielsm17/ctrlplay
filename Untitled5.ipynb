{
 "cells": [
  {
   "cell_type": "code",
   "execution_count": 1,
   "id": "a5b25c59-571a-4200-9cd2-b15d7dbbd434",
   "metadata": {},
   "outputs": [
    {
     "name": "stdout",
     "output_type": "stream",
     "text": [
      "banana\n",
      "abacaxi\n",
      "granola\n",
      "açai\n"
     ]
    }
   ],
   "source": [
    "def ingredientes(*ing1):\n",
    "    for i in ing1:\n",
    "        print (i)\n",
    "    print('açai')\n",
    "\n",
    "ingredientes('banana', 'abacaxi', 'granola')"
   ]
  },
  {
   "cell_type": "code",
   "execution_count": 5,
   "id": "42d9123b-1225-4e85-ac3b-7d4686a33729",
   "metadata": {},
   "outputs": [
    {
     "name": "stdout",
     "output_type": "stream",
     "text": [
      "5\n",
      "4\n",
      "3\n",
      "2\n",
      "1\n"
     ]
    }
   ],
   "source": [
    "def ate1 (num):\n",
    "    print(num)\n",
    "    num -= 1\n",
    "    if num >= 1:\n",
    "        ate1(num)\n",
    "    else:\n",
    "        return 0\n",
    "\n",
    "ate1(5)"
   ]
  },
  {
   "cell_type": "code",
   "execution_count": 9,
   "id": "bd44a7f6-f74a-4e62-8fcc-5a4b5ff85fa1",
   "metadata": {},
   "outputs": [
    {
     "data": {
      "text/plain": [
       "6.0"
      ]
     },
     "execution_count": 9,
     "metadata": {},
     "output_type": "execute_result"
    }
   ],
   "source": [
    "def soma (num1, num2):\n",
    "    return num1 + num2\n",
    "\n",
    "def media(num1, num2):\n",
    "    return soma(num1, num2)/2\n",
    "\n",
    "media(5,7)"
   ]
  },
  {
   "cell_type": "code",
   "execution_count": 17,
   "id": "33316ea6-32a5-471b-b1f8-a400fdfefd8a",
   "metadata": {},
   "outputs": [
    {
     "name": "stdin",
     "output_type": "stream",
     "text": [
      "digite um numero:  1\n",
      "digite um numero:  2\n",
      "o que deseja? [1-somar, 2-subtrair]:  1\n"
     ]
    }
   ],
   "source": [
    "num1 = int(input('digite um numero: '))\n",
    "num2 = int(input('digite um numero: '))\n",
    "escolha = int(input('o que deseja? [1-somar, 2-subtrair, 3- multiplicação, 4- divisão]: '))"
   ]
  },
  {
   "cell_type": "code",
   "execution_count": 23,
   "id": "005fd172-5126-40f3-a5b2-47b2d7e84c6c",
   "metadata": {},
   "outputs": [
    {
     "data": {
      "text/plain": [
       "6.0"
      ]
     },
     "execution_count": 23,
     "metadata": {},
     "output_type": "execute_result"
    }
   ],
   "source": [
    "def soma (num1, num2):\n",
    "    return num1 + num2\n",
    "\n",
    "def media(num1, num2):\n",
    "    return soma(num1, num2)/2\n",
    "\n",
    "media(5,7)"
   ]
  },
  {
   "cell_type": "code",
   "execution_count": 33,
   "id": "b8842b7a-8b47-497d-b50a-6e47b666437b",
   "metadata": {},
   "outputs": [
    {
     "data": {
      "text/plain": [
       "6.0"
      ]
     },
     "execution_count": 33,
     "metadata": {},
     "output_type": "execute_result"
    }
   ],
   "source": [
    "def soma (num1, num2):\n",
    "    return num1 + num2\n",
    "\n",
    "def media(num1, num2):\n",
    "    return soma(num1, num2)/2\n",
    "\n",
    "media(5,7)"
   ]
  },
  {
   "cell_type": "code",
   "execution_count": 41,
   "id": "013c940b-264c-40fc-94ac-697ca579ce6a",
   "metadata": {},
   "outputs": [
    {
     "ename": "IndentationError",
     "evalue": "expected an indented block after 'if' statement on line 8 (2991051536.py, line 9)",
     "output_type": "error",
     "traceback": [
      "\u001b[1;36m  Cell \u001b[1;32mIn[41], line 9\u001b[1;36m\u001b[0m\n\u001b[1;33m    print(soma)\u001b[0m\n\u001b[1;37m    ^\u001b[0m\n\u001b[1;31mIndentationError\u001b[0m\u001b[1;31m:\u001b[0m expected an indented block after 'if' statement on line 8\n"
     ]
    }
   ],
   "source": [
    "def soma (num1, num2):\n",
    "    return num1 + num2\n",
    "\n",
    "num1 = int(input('digite um numero: '))\n",
    "num2 = int(input('digite um numero: '))\n",
    "escolha = int(input('o que deseja? [1-somar, 2-subtrair, 3- multiplicação, 4- divisão]: '))\n",
    "\n",
    "if escolha == num1:\n",
    "print(soma)"
   ]
  },
  {
   "cell_type": "code",
   "execution_count": 45,
   "id": "1c385349-d1a3-4463-b27c-c401ed628c64",
   "metadata": {},
   "outputs": [
    {
     "name": "stdin",
     "output_type": "stream",
     "text": [
      "digite um numero:  2\n",
      "digite um numero:  3\n",
      "o que deseja? [1-somar, 2-subtrair, 3- multiplicação, 4- divisão]:  4\n"
     ]
    }
   ],
   "source": [
    "def soma (num1, num2):\n",
    "    return num1 + num2\n",
    "\n",
    "num1 = int(input('digite um numero: '))\n",
    "num2 = int(input('digite um numero: '))\n",
    "escolha = int(input('o que deseja? [1-somar, 2-subtrair, 3- multiplicação, 4- divisão]: '))\n",
    "\n",
    "if escolha == 1:\n",
    "    soma(num1, num2)"
   ]
  },
  {
   "cell_type": "code",
   "execution_count": null,
   "id": "a2c17791-a19d-4182-9181-b1e13cb68f99",
   "metadata": {},
   "outputs": [],
   "source": []
  }
 ],
 "metadata": {
  "kernelspec": {
   "display_name": "Python [conda env:base] *",
   "language": "python",
   "name": "conda-base-py"
  },
  "language_info": {
   "codemirror_mode": {
    "name": "ipython",
    "version": 3
   },
   "file_extension": ".py",
   "mimetype": "text/x-python",
   "name": "python",
   "nbconvert_exporter": "python",
   "pygments_lexer": "ipython3",
   "version": "3.12.7"
  }
 },
 "nbformat": 4,
 "nbformat_minor": 5
}
