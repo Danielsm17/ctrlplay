{
 "cells": [
  {
   "cell_type": "code",
   "execution_count": 1,
   "id": "98c9e954-9355-4a87-844b-1a7fc4afa0fd",
   "metadata": {},
   "outputs": [
    {
     "data": {
      "text/plain": [
       "314"
      ]
     },
     "execution_count": 1,
     "metadata": {},
     "output_type": "execute_result"
    }
   ],
   "source": [
    "def nomeFuncao(n1, n2):\n",
    "    return n1 + n2\n",
    "\n",
    "nomeFuncao(7, 307)"
   ]
  },
  {
   "cell_type": "code",
   "execution_count": 9,
   "id": "298e02a5-3165-4b4d-a101-2eeebb983b90",
   "metadata": {},
   "outputs": [
    {
     "name": "stdout",
     "output_type": "stream",
     "text": [
      "ímpar\n",
      "par\n"
     ]
    }
   ],
   "source": [
    "def par_ou_impar(numero):\n",
    "    if numero % 2 == 0:\n",
    "        return \"par\"\n",
    "    else:\n",
    "        return \"ímpar\"\n",
    " \n",
    "print(par_ou_impar(13))\n",
    "print(par_ou_impar(24))"
   ]
  },
  {
   "cell_type": "code",
   "execution_count": 11,
   "id": "9e5cccfe-8c32-4da7-a5dc-e7a7e0a44c74",
   "metadata": {},
   "outputs": [
    {
     "name": "stdout",
     "output_type": "stream",
     "text": [
      "5.0\n",
      "erro\n"
     ]
    }
   ],
   "source": [
    "def dividir(a, b):\n",
    "    if b == 0:\n",
    "        return 'erro'\n",
    "    return a / b\n",
    "\n",
    "print(dividir(10, 2))\n",
    "print(dividir(5, 0))"
   ]
  },
  {
   "cell_type": "code",
   "execution_count": 13,
   "id": "0a463eb6-40f2-4ce8-a975-7fb570fd26b4",
   "metadata": {},
   "outputs": [
    {
     "name": "stdin",
     "output_type": "stream",
     "text": [
      "Escolha pedra, papel ou tesoura:  tesoura\n"
     ]
    },
    {
     "name": "stdout",
     "output_type": "stream",
     "text": [
      "Você escolheu: tesoura\n",
      "A máquina escolheu: papel\n",
      "Você venceu!\n"
     ]
    }
   ],
   "source": [
    "import random\n",
    "\n",
    "def jogar_pedra_papel_tesoura():\n",
    "    opcoes = ['pedra', 'papel', 'tesoura']\n",
    "    \n",
    "    while True:\n",
    "        usuario = input(\"Escolha pedra, papel ou tesoura: \").lower()\n",
    "        if usuario in opcoes:\n",
    "            break\n",
    "        else:\n",
    "            print(\"Opção inválida. Tente novamente.\")\n",
    "\n",
    "    maquina = random.choice(opcoes)\n",
    "    print(f\"Você escolheu: {usuario}\")\n",
    "    print(f\"A máquina escolheu: {maquina}\")\n",
    "\n",
    "    if usuario == maquina:\n",
    "        print(\"Empate!\")\n",
    "    elif (usuario == 'pedra' and maquina == 'tesoura') or \\\n",
    "         (usuario == 'papel' and maquina == 'pedra') or \\\n",
    "         (usuario == 'tesoura' and maquina == 'papel'):\n",
    "        print(\"Você venceu!\")\n",
    "    else:\n",
    "        print(\"A máquina venceu!\")\n",
    "\n",
    "\n",
    "jogar_pedra_papel_tesoura()"
   ]
  },
  {
   "cell_type": "code",
   "execution_count": null,
   "id": "245eeda4-dbce-4d84-8622-b285dc2f1660",
   "metadata": {},
   "outputs": [],
   "source": []
  }
 ],
 "metadata": {
  "kernelspec": {
   "display_name": "Python [conda env:base] *",
   "language": "python",
   "name": "conda-base-py"
  },
  "language_info": {
   "codemirror_mode": {
    "name": "ipython",
    "version": 3
   },
   "file_extension": ".py",
   "mimetype": "text/x-python",
   "name": "python",
   "nbconvert_exporter": "python",
   "pygments_lexer": "ipython3",
   "version": "3.12.7"
  }
 },
 "nbformat": 4,
 "nbformat_minor": 5
}
