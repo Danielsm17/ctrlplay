{
 "cells": [
  {
   "cell_type": "code",
   "execution_count": 1,
   "id": "80d7db7f-e7fc-4fa0-ad56-5feae6f9090c",
   "metadata": {},
   "outputs": [
    {
     "name": "stdout",
     "output_type": "stream",
     "text": [
      "<class 'tuple'>\n"
     ]
    }
   ],
   "source": [
    "dias = ('domingo', 'segunda', 'terça', 'quarta', 'quinta', 'sexta', 'sabado')\n",
    "print(type(dias))"
   ]
  },
  {
   "cell_type": "code",
   "execution_count": 3,
   "id": "cc0b5d79-4d24-466d-ba83-709c99c0755b",
   "metadata": {},
   "outputs": [
    {
     "name": "stdout",
     "output_type": "stream",
     "text": [
      "('domingo', 'segunda', 'terça', 'quarta', 'quinta', 'sexta', 'sabado')\n"
     ]
    }
   ],
   "source": [
    "print(dias)\n",
    "\n",
    "del dias"
   ]
  },
  {
   "cell_type": "code",
   "execution_count": 5,
   "id": "c30d2f98-8dda-4f61-9063-8f919bd7f753",
   "metadata": {},
   "outputs": [
    {
     "name": "stdout",
     "output_type": "stream",
     "text": [
      "2\n"
     ]
    }
   ],
   "source": [
    "perso_info = ('joao' , 28, True, 1.72)\n",
    "print(perso_info.index(True))"
   ]
  },
  {
   "cell_type": "code",
   "execution_count": 7,
   "id": "59fcc7db-b994-488a-83f1-b13a78b6c877",
   "metadata": {},
   "outputs": [
    {
     "name": "stdout",
     "output_type": "stream",
     "text": [
      "4\n"
     ]
    }
   ],
   "source": [
    "print(len(perso_info))"
   ]
  },
  {
   "cell_type": "code",
   "execution_count": 9,
   "id": "94b52f7a-09d4-4ab6-a379-66c264ed4c81",
   "metadata": {},
   "outputs": [
    {
     "ename": "AttributeError",
     "evalue": "'tuple' object has no attribute 'append'",
     "output_type": "error",
     "traceback": [
      "\u001b[1;31m---------------------------------------------------------------------------\u001b[0m",
      "\u001b[1;31mAttributeError\u001b[0m                            Traceback (most recent call last)",
      "Cell \u001b[1;32mIn[9], line 2\u001b[0m\n\u001b[0;32m      1\u001b[0m besteira \u001b[38;5;241m=\u001b[39m (\u001b[38;5;124m'\u001b[39m\u001b[38;5;124mbobo\u001b[39m\u001b[38;5;124m'\u001b[39m, \u001b[38;5;124m'\u001b[39m\u001b[38;5;124mfeio\u001b[39m\u001b[38;5;124m'\u001b[39m, \u001b[38;5;124m'\u001b[39m\u001b[38;5;124mburro\u001b[39m\u001b[38;5;124m'\u001b[39m, \u001b[38;5;124m'\u001b[39m\u001b[38;5;124mchato\u001b[39m\u001b[38;5;124m'\u001b[39m)\n\u001b[1;32m----> 2\u001b[0m besteira\u001b[38;5;241m.\u001b[39mappend(\u001b[38;5;124m'\u001b[39m\u001b[38;5;124mchatao\u001b[39m\u001b[38;5;124m'\u001b[39m)\n",
      "\u001b[1;31mAttributeError\u001b[0m: 'tuple' object has no attribute 'append'"
     ]
    }
   ],
   "source": [
    "besteira = ('bobo', 'feio', 'burro', 'chato')\n",
    "besteira.append('chatao')"
   ]
  },
  {
   "cell_type": "code",
   "execution_count": 13,
   "id": "60542c07-e882-411e-a1e5-b8f403538ee6",
   "metadata": {},
   "outputs": [
    {
     "ename": "AttributeError",
     "evalue": "'tuple' object has no attribute 'append'",
     "output_type": "error",
     "traceback": [
      "\u001b[1;31m---------------------------------------------------------------------------\u001b[0m",
      "\u001b[1;31mAttributeError\u001b[0m                            Traceback (most recent call last)",
      "Cell \u001b[1;32mIn[13], line 2\u001b[0m\n\u001b[0;32m      1\u001b[0m besteira \u001b[38;5;241m=\u001b[39m (\u001b[38;5;124m'\u001b[39m\u001b[38;5;124mbobo\u001b[39m\u001b[38;5;124m'\u001b[39m, \u001b[38;5;124m'\u001b[39m\u001b[38;5;124mfeio\u001b[39m\u001b[38;5;124m'\u001b[39m, \u001b[38;5;124m'\u001b[39m\u001b[38;5;124mburro\u001b[39m\u001b[38;5;124m'\u001b[39m, \u001b[38;5;124m'\u001b[39m\u001b[38;5;124mchato\u001b[39m\u001b[38;5;124m'\u001b[39m)\n\u001b[1;32m----> 2\u001b[0m besteira\u001b[38;5;241m.\u001b[39mappend(\u001b[38;5;124m'\u001b[39m\u001b[38;5;124mchatao\u001b[39m\u001b[38;5;124m'\u001b[39m)\n\u001b[0;32m      3\u001b[0m \u001b[38;5;28mprint\u001b[39m(besteira)\n",
      "\u001b[1;31mAttributeError\u001b[0m: 'tuple' object has no attribute 'append'"
     ]
    }
   ],
   "source": [
    "besteira = ('bobo', 'feio', 'burro', 'chato')\n",
    "besteira.append('chatao')\n",
    "print(besteira)\n"
   ]
  },
  {
   "cell_type": "code",
   "execution_count": 15,
   "id": "61a38af6-8bf7-41be-ae7c-1e80d4d489b0",
   "metadata": {},
   "outputs": [
    {
     "name": "stdout",
     "output_type": "stream",
     "text": [
      "{2, 3}\n"
     ]
    }
   ],
   "source": [
    "# 1 = guerreiro / 2 = mago / 3 = arqueiro / 4 = ladino\n",
    "x = set()\n",
    "x.add(2)\n",
    "x.add(3)\n",
    "print(x)"
   ]
  },
  {
   "cell_type": "code",
   "execution_count": null,
   "id": "4cf1fa74-ea0e-4c63-b1fc-270502e0dadc",
   "metadata": {},
   "outputs": [],
   "source": []
  }
 ],
 "metadata": {
  "kernelspec": {
   "display_name": "Python [conda env:base] *",
   "language": "python",
   "name": "conda-base-py"
  },
  "language_info": {
   "codemirror_mode": {
    "name": "ipython",
    "version": 3
   },
   "file_extension": ".py",
   "mimetype": "text/x-python",
   "name": "python",
   "nbconvert_exporter": "python",
   "pygments_lexer": "ipython3",
   "version": "3.12.7"
  }
 },
 "nbformat": 4,
 "nbformat_minor": 5
}
