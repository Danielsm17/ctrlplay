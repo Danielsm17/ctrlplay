{
 "cells": [
  {
   "cell_type": "code",
   "execution_count": 1,
   "id": "e14ec05a-e631-486b-8c0c-0f636ccc25f4",
   "metadata": {},
   "outputs": [
    {
     "data": {
      "text/plain": [
       "'\\narquivo.txt\\narquivo.doc\\narquivo.pdf\\narquivo.\\n'"
      ]
     },
     "execution_count": 1,
     "metadata": {},
     "output_type": "execute_result"
    }
   ],
   "source": [
    "'''\n",
    "arquivo.txt\n",
    "arquivo.doc\n",
    "arquivo.pdf\n",
    "arquivo.\n",
    "'''"
   ]
  },
  {
   "cell_type": "code",
   "execution_count": 11,
   "id": "f971e0ed-838d-4e4a-ae18-30ed83f48ee5",
   "metadata": {},
   "outputs": [
    {
     "name": "stdout",
     "output_type": "stream",
     "text": [
      "faço seu desenho desejado por uma coxinha\n",
      "\n"
     ]
    }
   ],
   "source": [
    "arquivo = open('teste.txt', 'w') # w = write\n",
    "arquivo.write('faço seu desenho desejado por uma coxinha\\n')\n",
    "arquivo.close()\n",
    "\n",
    "arquivo = open('teste.txt', 'r')\n",
    "leitura = open('teste.txt', 'r') # r = read\n",
    "leitura=arquivo.read()\n",
    "print(leitura)"
   ]
  },
  {
   "cell_type": "code",
   "execution_count": 13,
   "id": "e6d3377d-306f-4811-879d-cc62b4654fe0",
   "metadata": {},
   "outputs": [
    {
     "name": "stdout",
     "output_type": "stream",
     "text": [
      "faço seu desenho desejado por uma coxinha\n",
      "\n",
      "meu fi que joga de bola\n",
      "\n"
     ]
    }
   ],
   "source": [
    "arquivo = open('teste.txt', 'w') # w = write\n",
    "arquivo.write('faço seu desenho desejado por uma coxinha\\n')\n",
    "arquivo.close()\n",
    "\n",
    "arquivo = open('teste.txt', 'r')\n",
    "leitura = open('teste.txt', 'r') # r = read\n",
    "leitura=arquivo.read()\n",
    "print(leitura)\n",
    "\n",
    "arquivo = open('teste.txt', 'w')\n",
    "arquivo.write('meu fi que joga de bola\\n')\n",
    "arquivo.close()\n",
    "\n",
    "arquivo = open('teste.txt', 'r')\n",
    "leitura = open('teste.txt', 'r')\n",
    "leitura=arquivo.read()\n",
    "print(leitura)"
   ]
  },
  {
   "cell_type": "code",
   "execution_count": 20,
   "id": "a9639177-b0d7-4f6f-9d64-f1acbd68f1fe",
   "metadata": {},
   "outputs": [
    {
     "name": "stdout",
     "output_type": "stream",
     "text": [
      "faço seu desenho desejado por uma coxinha\n",
      "\n"
     ]
    }
   ],
   "source": [
    "arquivo = open('teste.txt', 'w') # a = append\n",
    "arquivo.write('faço seu desenho desejado por uma coxinha\\n')\n",
    "arquivo.close()\n",
    "\n",
    "arquivo = open('teste.txt', 'r')\n",
    "leitura=arquivo.read()\n",
    "print(leitura)\n",
    "arquivo.close()"
   ]
  },
  {
   "cell_type": "code",
   "execution_count": 22,
   "id": "060186da-93d7-468a-9932-7f2ae99ae7a7",
   "metadata": {},
   "outputs": [
    {
     "name": "stdout",
     "output_type": "stream",
     "text": [
      "Linha1\n",
      "\n",
      "Linha2\n",
      "\n",
      "Linha3\n",
      "\n"
     ]
    }
   ],
   "source": [
    "arquivo2 = open('teste2.txt', 'w')\n",
    "arquivo2.write('Linha1\\n')\n",
    "arquivo2.write('Linha2\\n')\n",
    "arquivo2.write('Linha3\\n')\n",
    "arquivo2.close()\n",
    "\n",
    "arquivo2 = open('teste2.txt', 'r')\n",
    "for linha in arquivo2:\n",
    "    print(linha)"
   ]
  },
  {
   "cell_type": "code",
   "execution_count": null,
   "id": "392ee313-58a0-4892-a362-d38cdb76ae31",
   "metadata": {},
   "outputs": [],
   "source": []
  }
 ],
 "metadata": {
  "kernelspec": {
   "display_name": "Python [conda env:base] *",
   "language": "python",
   "name": "conda-base-py"
  },
  "language_info": {
   "codemirror_mode": {
    "name": "ipython",
    "version": 3
   },
   "file_extension": ".py",
   "mimetype": "text/x-python",
   "name": "python",
   "nbconvert_exporter": "python",
   "pygments_lexer": "ipython3",
   "version": "3.12.7"
  }
 },
 "nbformat": 4,
 "nbformat_minor": 5
}
