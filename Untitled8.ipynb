{
 "cells": [
  {
   "cell_type": "code",
   "execution_count": 3,
   "id": "912af6a0-a247-448b-92f9-eca591409aee",
   "metadata": {},
   "outputs": [
    {
     "name": "stdout",
     "output_type": "stream",
     "text": [
      "64.0\n"
     ]
    }
   ],
   "source": [
    "import math\n",
    "\n",
    "print(math.pow(2,6))"
   ]
  },
  {
   "cell_type": "code",
   "execution_count": 5,
   "id": "b66d4ee1-a79f-40fc-93b8-a6afe8537924",
   "metadata": {},
   "outputs": [
    {
     "name": "stdout",
     "output_type": "stream",
     "text": [
      "5\n"
     ]
    }
   ],
   "source": [
    "import math\n",
    "\n",
    "print(math.ceil(4.6))"
   ]
  },
  {
   "cell_type": "code",
   "execution_count": 27,
   "id": "e7add656-4fb6-410f-a121-8cbcb667f431",
   "metadata": {},
   "outputs": [
    {
     "name": "stdout",
     "output_type": "stream",
     "text": [
      "3\n",
      "2.1447610589527217\n",
      "64.0\n",
      "5\n"
     ]
    }
   ],
   "source": [
    "import math\n",
    "\n",
    "print(math.trunc(3.141592))\n",
    "print(math.sqrt(4.6))\n",
    "print(math.pow(2,6))\n",
    "print(math.ceil(4.6))"
   ]
  },
  {
   "cell_type": "code",
   "execution_count": null,
   "id": "c588b96f-829c-49df-bbfd-893b8967d58c",
   "metadata": {},
   "outputs": [],
   "source": [
    "import os\n",
    "\n",
    "os.rmdir(\"gmpm\")"
   ]
  },
  {
   "cell_type": "code",
   "execution_count": 23,
   "id": "ca0b8dae-24fa-4949-bc2a-1741b02bee02",
   "metadata": {},
   "outputs": [
    {
     "name": "stdout",
     "output_type": "stream",
     "text": [
      "Não tem\n"
     ]
    }
   ],
   "source": [
    "import os\n",
    "\n",
    "if os.path.exists('arquivo.txt'):\n",
    "    os.remove('arquivo.txt')\n",
    "    print('tem')\n",
    "else:\n",
    "    print('Não tem')"
   ]
  },
  {
   "cell_type": "code",
   "execution_count": 29,
   "id": "05b4a5c6-cd83-4604-9e3b-26cdfee82b87",
   "metadata": {},
   "outputs": [
    {
     "name": "stdout",
     "output_type": "stream",
     "text": [
      "Criei\n"
     ]
    }
   ],
   "source": [
    "import os\n",
    "\n",
    "if os.path.exists('arquivo.txt'):\n",
    "    os.remove('arquivo.txt')\n",
    "    print('tem')\n",
    "else:\n",
    "    arquivo = open(\"arquivo.txt\", \"w\")\n",
    "    arquivo.close()\n",
    "    print('Criei')"
   ]
  },
  {
   "cell_type": "code",
   "execution_count": 31,
   "id": "51126821-3332-4723-8161-92def63f5b2c",
   "metadata": {},
   "outputs": [
    {
     "name": "stdout",
     "output_type": "stream",
     "text": [
      "tem\n"
     ]
    }
   ],
   "source": [
    "import os\n",
    "\n",
    "if os.path.exists('arquivo.txt'):\n",
    "    os.remove('arquivo.txt')\n",
    "    print('tem')\n",
    "else:\n",
    "    arquivo = open(\"arquivo.txt\", \"r\")\n",
    "    arquivo.close()\n",
    "    print('Criei')"
   ]
  },
  {
   "cell_type": "code",
   "execution_count": 33,
   "id": "eb4e3081-236c-44ed-b1fe-703132dff1f7",
   "metadata": {},
   "outputs": [
    {
     "name": "stdout",
     "output_type": "stream",
     "text": [
      "Criei\n"
     ]
    }
   ],
   "source": [
    "import os\n",
    "\n",
    "if os.path.exists('arquivo.txt'):\n",
    "    os.remove('arquivo.txt')\n",
    "    print('tem')\n",
    "else:\n",
    "    arquivo = open(\"arquivo.txt\", \"a\")\n",
    "    arquivo.close()\n",
    "    print('Criei')"
   ]
  },
  {
   "cell_type": "code",
   "execution_count": 47,
   "id": "799b00d6-722a-4f54-8eb2-6bf2c6ff1ab7",
   "metadata": {},
   "outputs": [
    {
     "name": "stdout",
     "output_type": "stream",
     "text": [
      "1678\n"
     ]
    }
   ],
   "source": [
    "import random\n",
    "\n",
    "numero_aleatório = random.randint(1,7000)\n",
    "print(numero_aleatório)"
   ]
  },
  {
   "cell_type": "code",
   "execution_count": 55,
   "id": "c63c740c-31a7-4726-bc8e-632c2e73ef78",
   "metadata": {},
   "outputs": [
    {
     "name": "stdout",
     "output_type": "stream",
     "text": [
      "2.926721856856531\n",
      "atirei na b3\n"
     ]
    }
   ],
   "source": [
    "import random\n",
    "\n",
    "numerofl = random.uniform(1, 10)\n",
    "print(numerofl)\n",
    "\n",
    "letras = ['a', 'b', 'c']\n",
    "numeros = [1, 2, 3]\n",
    "print(f'atirei na {letras[random.randint(0, 2)]}{numeros[random.randint(0, 2)]}')"
   ]
  },
  {
   "cell_type": "code",
   "execution_count": 64,
   "id": "51e1dae7-1909-4bc0-af30-f50bfa1125f0",
   "metadata": {},
   "outputs": [
    {
     "name": "stdout",
     "output_type": "stream",
     "text": [
      "5.279593073734835\n",
      "atirei na a2, o jogador está ná b2\n",
      "errou\n"
     ]
    }
   ],
   "source": [
    "import random\n",
    "\n",
    "numerofl = random.uniform(1, 10)\n",
    "print(numerofl)\n",
    "\n",
    "letras = ['a', 'b', 'c']\n",
    "numeros = [1, 2, 3]\n",
    "resultado = letras[random.randint(0,2)] + str(numeros[random.randint(0,2)])\n",
    "posicao = 'b2'\n",
    "print(f'atirei na {resultado}, o jogador está ná {posicao}')\n",
    "if posicao == resultado:\n",
    "    print('acertou o jogador')\n",
    "else:\n",
    "    print('errou')"
   ]
  }
 ],
 "metadata": {
  "kernelspec": {
   "display_name": "Python [conda env:base] *",
   "language": "python",
   "name": "conda-base-py"
  },
  "language_info": {
   "codemirror_mode": {
    "name": "ipython",
    "version": 3
   },
   "file_extension": ".py",
   "mimetype": "text/x-python",
   "name": "python",
   "nbconvert_exporter": "python",
   "pygments_lexer": "ipython3",
   "version": "3.12.7"
  }
 },
 "nbformat": 4,
 "nbformat_minor": 5
}
