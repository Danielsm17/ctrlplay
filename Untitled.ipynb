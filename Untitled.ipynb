{
 "cells": [
  {
   "cell_type": "code",
   "execution_count": 2,
   "id": "817f619a-227b-48da-940d-b3240908ee2f",
   "metadata": {},
   "outputs": [
    {
     "name": "stdout",
     "output_type": "stream",
     "text": [
      "1\n",
      "2\n",
      "3\n",
      "1\n",
      "2\n",
      "3\n"
     ]
    }
   ],
   "source": [
    "print(1)\n",
    "print(2)\n",
    "print(3)\n",
    "print(1)\n",
    "print(2)\n",
    "print(3)"
   ]
  },
  {
   "cell_type": "code",
   "execution_count": 14,
   "id": "96dda9a3-6848-4d65-94a3-97b4fa4f5d98",
   "metadata": {},
   "outputs": [
    {
     "name": "stdout",
     "output_type": "stream",
     "text": [
      "numero pequeno\n",
      "numero pequeno\n",
      "numero pequeno\n",
      "numero pequeno\n",
      "5\n",
      "6\n",
      "7\n",
      "8\n",
      "9\n",
      "10\n"
     ]
    }
   ],
   "source": [
    "for num in range (1, 11):\n",
    "    if num >= 5:\n",
    "        print(num)\n",
    "    else:\n",
    "        print('numero pequeno')"
   ]
  },
  {
   "cell_type": "code",
   "execution_count": 33,
   "id": "a989a34d-6963-4f18-acc5-fdf272b12b10",
   "metadata": {},
   "outputs": [
    {
     "name": "stdout",
     "output_type": "stream",
     "text": [
      "10\n",
      "9\n",
      "8\n",
      "7\n",
      "6\n",
      "5\n",
      "4\n",
      "3\n",
      "2\n",
      "1\n"
     ]
    }
   ],
   "source": [
    "soma2 = 10\n",
    "while True:\n",
    "    print(soma2)\n",
    "    soma2 -= 1\n",
    "    if soma2 == 0:\n",
    "        break"
   ]
  },
  {
   "cell_type": "code",
   "execution_count": 34,
   "id": "ec8758e4-c581-41a2-979d-bb4d55d64400",
   "metadata": {},
   "outputs": [
    {
     "name": "stdout",
     "output_type": "stream",
     "text": [
      "digite um numero: \n"
     ]
    }
   ],
   "source": [
    "calculadora = ('digite um numero: ')\n",
    "print(calculadora)"
   ]
  },
  {
   "cell_type": "code",
   "execution_count": 35,
   "id": "ead507f7-83b1-47ae-8ef4-c9d536306809",
   "metadata": {},
   "outputs": [
    {
     "name": "stdin",
     "output_type": "stream",
     "text": [
      "digite um numero:  90\n"
     ]
    },
    {
     "name": "stdout",
     "output_type": "stream",
     "text": [
      "90\n"
     ]
    }
   ],
   "source": [
    "calculadora = int(input('digite um numero: '))\n",
    "print(calculadora)"
   ]
  },
  {
   "cell_type": "code",
   "execution_count": 37,
   "id": "8cbdb3dc-071e-430e-97bd-5234808113bd",
   "metadata": {},
   "outputs": [
    {
     "name": "stdin",
     "output_type": "stream",
     "text": [
      "digite um numero:  200\n"
     ]
    },
    {
     "name": "stdout",
     "output_type": "stream",
     "text": [
      "200\n",
      "440\n"
     ]
    }
   ],
   "source": [
    "calculadora = int(input('digite um numero: '))\n",
    "print(calculadora)\n",
    "soma =  240\n",
    "print(calculadora + soma)"
   ]
  },
  {
   "cell_type": "code",
   "execution_count": 40,
   "id": "016a69c6-1f41-4002-8c2c-995ecf2244ca",
   "metadata": {},
   "outputs": [
    {
     "name": "stdin",
     "output_type": "stream",
     "text": [
      "digite um numero:  200\n"
     ]
    },
    {
     "name": "stdout",
     "output_type": "stream",
     "text": [
      "200\n"
     ]
    }
   ],
   "source": [
    "calculadora = int(input('digite um numero: '))\n",
    "print(calculadora)"
   ]
  },
  {
   "cell_type": "code",
   "execution_count": 41,
   "id": "267a0acc-7e83-4ce5-9917-798a7f552d20",
   "metadata": {},
   "outputs": [
    {
     "name": "stdin",
     "output_type": "stream",
     "text": [
      "digite um numero:  200\n"
     ]
    },
    {
     "name": "stdout",
     "output_type": "stream",
     "text": [
      "200\n"
     ]
    },
    {
     "name": "stdin",
     "output_type": "stream",
     "text": [
      "digite um numero:  250\n"
     ]
    }
   ],
   "source": [
    "calculadora = int(input('digite um numero: '))\n",
    "print(calculadora)\n",
    "calculadora2 = int(input('digite um numero: '))"
   ]
  },
  {
   "cell_type": "code",
   "execution_count": 45,
   "id": "daa81464-10e9-409f-a508-e6f2f9b81164",
   "metadata": {},
   "outputs": [
    {
     "name": "stdin",
     "output_type": "stream",
     "text": [
      "digite um numero:  200\n"
     ]
    },
    {
     "name": "stdout",
     "output_type": "stream",
     "text": [
      "200\n"
     ]
    },
    {
     "name": "stdin",
     "output_type": "stream",
     "text": [
      "digite um numero:  500\n"
     ]
    },
    {
     "name": "stdout",
     "output_type": "stream",
     "text": [
      "700\n",
      "-300\n",
      "100000\n"
     ]
    }
   ],
   "source": [
    "calculadora = int(input('digite um numero: '))\n",
    "print(calculadora)\n",
    "calculadora2 = int(input('digite um numero: '))\n",
    "print(calculadora + calculadora2)\n",
    "print(calculadora - calculadora2)\n",
    "print(calculadora * calculadora2)"
   ]
  },
  {
   "cell_type": "code",
   "execution_count": 51,
   "id": "0ab96f01-7f66-4d17-9228-0a1a8511eeb0",
   "metadata": {},
   "outputs": [
    {
     "name": "stdin",
     "output_type": "stream",
     "text": [
      "digite um numero:  10\n"
     ]
    },
    {
     "name": "stdout",
     "output_type": "stream",
     "text": [
      "10\n"
     ]
    },
    {
     "name": "stdin",
     "output_type": "stream",
     "text": [
      "digite um numero:  10\n"
     ]
    },
    {
     "name": "stdout",
     "output_type": "stream",
     "text": [
      "20\n",
      "0\n",
      "100\n",
      "[0]Sair\n",
      "[1]Divisão\n",
      "[2]Subtração\n",
      "[3]Multiplicação\n",
      "[4]Soma\n"
     ]
    },
    {
     "name": "stdin",
     "output_type": "stream",
     "text": [
      "digite um numero:  10\n"
     ]
    },
    {
     "name": "stdout",
     "output_type": "stream",
     "text": [
      "10\n"
     ]
    },
    {
     "name": "stdin",
     "output_type": "stream",
     "text": [
      "digite um numero:  10\n"
     ]
    },
    {
     "name": "stdout",
     "output_type": "stream",
     "text": [
      "20\n",
      "0\n",
      "100\n",
      "[0]Sair\n",
      "[1]Divisão\n",
      "[2]Subtração\n",
      "[3]Multiplicação\n",
      "[4]Soma\n"
     ]
    },
    {
     "name": "stdin",
     "output_type": "stream",
     "text": [
      "digite um numero:  0\n"
     ]
    },
    {
     "name": "stdout",
     "output_type": "stream",
     "text": [
      "0\n"
     ]
    },
    {
     "ename": "KeyboardInterrupt",
     "evalue": "Interrupted by user",
     "output_type": "error",
     "traceback": [
      "\u001b[1;31m---------------------------------------------------------------------------\u001b[0m",
      "\u001b[1;31mKeyboardInterrupt\u001b[0m                         Traceback (most recent call last)",
      "Cell \u001b[1;32mIn[51], line 4\u001b[0m\n\u001b[0;32m      2\u001b[0m calculadora \u001b[38;5;241m=\u001b[39m \u001b[38;5;28mint\u001b[39m(\u001b[38;5;28minput\u001b[39m(\u001b[38;5;124m'\u001b[39m\u001b[38;5;124mdigite um numero: \u001b[39m\u001b[38;5;124m'\u001b[39m))\n\u001b[0;32m      3\u001b[0m \u001b[38;5;28mprint\u001b[39m(calculadora)\n\u001b[1;32m----> 4\u001b[0m calculadora2 \u001b[38;5;241m=\u001b[39m \u001b[38;5;28mint\u001b[39m(\u001b[38;5;28minput\u001b[39m(\u001b[38;5;124m'\u001b[39m\u001b[38;5;124mdigite um numero: \u001b[39m\u001b[38;5;124m'\u001b[39m))\n\u001b[0;32m      5\u001b[0m \u001b[38;5;28mprint\u001b[39m(calculadora \u001b[38;5;241m+\u001b[39m calculadora2)\n\u001b[0;32m      6\u001b[0m \u001b[38;5;28mprint\u001b[39m(calculadora \u001b[38;5;241m-\u001b[39m calculadora2)\n",
      "File \u001b[1;32m~\\anaconda3\\Lib\\site-packages\\ipykernel\\kernelbase.py:1262\u001b[0m, in \u001b[0;36mKernel.raw_input\u001b[1;34m(self, prompt)\u001b[0m\n\u001b[0;32m   1260\u001b[0m     msg \u001b[38;5;241m=\u001b[39m \u001b[38;5;124m\"\u001b[39m\u001b[38;5;124mraw_input was called, but this frontend does not support input requests.\u001b[39m\u001b[38;5;124m\"\u001b[39m\n\u001b[0;32m   1261\u001b[0m     \u001b[38;5;28;01mraise\u001b[39;00m StdinNotImplementedError(msg)\n\u001b[1;32m-> 1262\u001b[0m \u001b[38;5;28;01mreturn\u001b[39;00m \u001b[38;5;28mself\u001b[39m\u001b[38;5;241m.\u001b[39m_input_request(\n\u001b[0;32m   1263\u001b[0m     \u001b[38;5;28mstr\u001b[39m(prompt),\n\u001b[0;32m   1264\u001b[0m     \u001b[38;5;28mself\u001b[39m\u001b[38;5;241m.\u001b[39m_parent_ident[\u001b[38;5;124m\"\u001b[39m\u001b[38;5;124mshell\u001b[39m\u001b[38;5;124m\"\u001b[39m],\n\u001b[0;32m   1265\u001b[0m     \u001b[38;5;28mself\u001b[39m\u001b[38;5;241m.\u001b[39mget_parent(\u001b[38;5;124m\"\u001b[39m\u001b[38;5;124mshell\u001b[39m\u001b[38;5;124m\"\u001b[39m),\n\u001b[0;32m   1266\u001b[0m     password\u001b[38;5;241m=\u001b[39m\u001b[38;5;28;01mFalse\u001b[39;00m,\n\u001b[0;32m   1267\u001b[0m )\n",
      "File \u001b[1;32m~\\anaconda3\\Lib\\site-packages\\ipykernel\\kernelbase.py:1305\u001b[0m, in \u001b[0;36mKernel._input_request\u001b[1;34m(self, prompt, ident, parent, password)\u001b[0m\n\u001b[0;32m   1302\u001b[0m \u001b[38;5;28;01mexcept\u001b[39;00m \u001b[38;5;167;01mKeyboardInterrupt\u001b[39;00m:\n\u001b[0;32m   1303\u001b[0m     \u001b[38;5;66;03m# re-raise KeyboardInterrupt, to truncate traceback\u001b[39;00m\n\u001b[0;32m   1304\u001b[0m     msg \u001b[38;5;241m=\u001b[39m \u001b[38;5;124m\"\u001b[39m\u001b[38;5;124mInterrupted by user\u001b[39m\u001b[38;5;124m\"\u001b[39m\n\u001b[1;32m-> 1305\u001b[0m     \u001b[38;5;28;01mraise\u001b[39;00m \u001b[38;5;167;01mKeyboardInterrupt\u001b[39;00m(msg) \u001b[38;5;28;01mfrom\u001b[39;00m \u001b[38;5;28;01mNone\u001b[39;00m\n\u001b[0;32m   1306\u001b[0m \u001b[38;5;28;01mexcept\u001b[39;00m \u001b[38;5;167;01mException\u001b[39;00m:\n\u001b[0;32m   1307\u001b[0m     \u001b[38;5;28mself\u001b[39m\u001b[38;5;241m.\u001b[39mlog\u001b[38;5;241m.\u001b[39mwarning(\u001b[38;5;124m\"\u001b[39m\u001b[38;5;124mInvalid Message:\u001b[39m\u001b[38;5;124m\"\u001b[39m, exc_info\u001b[38;5;241m=\u001b[39m\u001b[38;5;28;01mTrue\u001b[39;00m)\n",
      "\u001b[1;31mKeyboardInterrupt\u001b[0m: Interrupted by user"
     ]
    }
   ],
   "source": [
    "while True:\n",
    "    calculadora = int(input('digite um numero: '))\n",
    "    print(calculadora)\n",
    "    calculadora2 = int(input('digite um numero: '))\n",
    "    print(calculadora + calculadora2)\n",
    "    print(calculadora - calculadora2)\n",
    "    print(calculadora * calculadora2)\n",
    "    print('[0]Sair')\n",
    "    print('[1]Divisão')\n",
    "    print('[2]Subtração')\n",
    "    print('[3]Multiplicação')\n",
    "    print('[4]Soma')"
   ]
  },
  {
   "cell_type": "code",
   "execution_count": null,
   "id": "5a10a88f-4bc1-49fb-9a1e-ca254dee214e",
   "metadata": {},
   "outputs": [],
   "source": [
    "while True:\n",
    "    print('Escolha!!\\n[1]Soma\\n[2]\\n[3]Multiplicação\\n[4]Divisão\\n[5]Potenciação\\n[0]Sair')\n",
    "    escolha = int(input())\n",
    "    if escolha > 5:\n",
    "        print('Opção errada, digite novamente!')\n",
    "        continue\n",
    "    elif escolha == 0:\n",
    "        print('tchau')\n",
    "        break\n",
    "    else:\n",
    "        num1 = float(input('Digite um número!'))\n",
    "        num2 = float(input('Digite outro número!'))\n",
    "        if escolha == 1:\n",
    "            print(f'A soma é: {num1 + num 2}')\n",
    "        elif escolha == 2:\n",
    "            print(f'A subtração é: {num1 - num2}')\n",
    "        elif escolha == 3:\n",
    "            print(f'A multiplicação é: {num1 + num2}')\n",
    "        elif escolha == 4:\n",
    "            print(f'A divisão é: {num1 * num2}')\n",
    "        else:\n",
    "            resultado"
   ]
  }
 ],
 "metadata": {
  "kernelspec": {
   "display_name": "Python 3 (ipykernel)",
   "language": "python",
   "name": "python3"
  },
  "language_info": {
   "codemirror_mode": {
    "name": "ipython",
    "version": 3
   },
   "file_extension": ".py",
   "mimetype": "text/x-python",
   "name": "python",
   "nbconvert_exporter": "python",
   "pygments_lexer": "ipython3",
   "version": "3.12.7"
  }
 },
 "nbformat": 4,
 "nbformat_minor": 5
}
