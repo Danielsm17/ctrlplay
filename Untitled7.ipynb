{
 "cells": [
  {
   "cell_type": "code",
   "execution_count": 7,
   "id": "e5718450-9565-40eb-b2ac-89de40585d15",
   "metadata": {},
   "outputs": [
    {
     "name": "stdout",
     "output_type": "stream",
     "text": [
      "Mordecaiser\n",
      "\n",
      "Mark\n",
      "\n",
      "Jin Mori\n",
      "\n",
      "Bayonetta\n",
      "\n",
      "Conquista\n",
      "\n"
     ]
    }
   ],
   "source": [
    "arquivo2 = open('teste2.txt', 'w')\n",
    "arquivo2.write('Mordecaiser\\n')\n",
    "arquivo2.write('Mark\\n')\n",
    "arquivo2.write('Jin Mori\\n')\n",
    "arquivo2.write('Bayonetta\\n')\n",
    "arquivo2.write('Conquista\\n')\n",
    "arquivo2.close()\n",
    "\n",
    "arquivo2 = open('teste2.txt', 'r')\n",
    "for linha in arquivo2:\n",
    "    print(linha)"
   ]
  },
  {
   "cell_type": "code",
   "execution_count": 31,
   "id": "3ef35b84-2e00-4ae2-a44e-fcdc8ea86a09",
   "metadata": {},
   "outputs": [
    {
     "name": "stdout",
     "output_type": "stream",
     "text": [
      "Lista de personagens para usar de modelo principal\n",
      "\n",
      "Lista de personagens para usar de modelo principal\n",
      "\n"
     ]
    }
   ],
   "source": [
    "arquivo = open('teste.txt', 'w') # w = write\n",
    "arquivo.write('Lista de personagens para usar de modelo principal\\n')\n",
    "arquivo.close()\n",
    "\n",
    "arquivo = open('teste.txt', 'r')\n",
    "leitura = open('teste.txt', 'r') # r = read\n",
    "leitura=arquivo.read()\n",
    "print(leitura)\n",
    "\n",
    "def lerarquivo(arq):\n",
    "    arquivo = open(arq, 'r')\n",
    "    leitura = arquivo.read()\n",
    "    print(leitura)\n",
    "    arquivo.close()\n",
    "\n",
    "lerarquivo('teste.txt')"
   ]
  },
  {
   "cell_type": "code",
   "execution_count": 59,
   "id": "2321507f-6cda-4aa3-b013-e40dfd50af7c",
   "metadata": {},
   "outputs": [
    {
     "name": "stdout",
     "output_type": "stream",
     "text": [
      "10\n",
      "digite seu numero\n",
      "10\n"
     ]
    }
   ],
   "source": [
    "arquivo = num1 * num2\n",
    "\n",
    "print(arquivo)\n",
    "print('digite seu numero')\n",
    "print(arquivo)"
   ]
  },
  {
   "cell_type": "code",
   "execution_count": null,
   "id": "118344cb-9438-4e7a-b788-9a280f91f38f",
   "metadata": {},
   "outputs": [],
   "source": []
  }
 ],
 "metadata": {
  "kernelspec": {
   "display_name": "Python [conda env:base] *",
   "language": "python",
   "name": "conda-base-py"
  },
  "language_info": {
   "codemirror_mode": {
    "name": "ipython",
    "version": 3
   },
   "file_extension": ".py",
   "mimetype": "text/x-python",
   "name": "python",
   "nbconvert_exporter": "python",
   "pygments_lexer": "ipython3",
   "version": "3.12.7"
  }
 },
 "nbformat": 4,
 "nbformat_minor": 5
}
