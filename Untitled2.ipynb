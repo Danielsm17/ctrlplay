{
 "cells": [
  {
   "cell_type": "code",
   "execution_count": 1,
   "id": "fa795c28-fe29-49bb-95fd-8033f586a23c",
   "metadata": {},
   "outputs": [
    {
     "name": "stdout",
     "output_type": "stream",
     "text": [
      "False True\n"
     ]
    }
   ],
   "source": [
    "x = True\n",
    "y = False\n",
    "z = 1 > 4\n",
    "a = 1 < 4\n",
    "print(z, a)"
   ]
  },
  {
   "cell_type": "code",
   "execution_count": 3,
   "id": "b6b0804a-7992-45ff-9428-6845f87569f6",
   "metadata": {},
   "outputs": [
    {
     "name": "stdout",
     "output_type": "stream",
     "text": [
      "True False False True None\n",
      "flamengo\n"
     ]
    }
   ],
   "source": [
    "b = None\n",
    "print(x, y, z, a, b)\n",
    "\n",
    "if x == a or x == x:\n",
    "    print('flamengo')"
   ]
  },
  {
   "cell_type": "code",
   "execution_count": 9,
   "id": "1451e1b9-65bc-4bfa-b07e-ad2f59644fb9",
   "metadata": {},
   "outputs": [
    {
     "name": "stdout",
     "output_type": "stream",
     "text": [
      "{'nome': 'jorge', 'LVL': 1, 'Classe': 'trabalhador', 'altura': 1.9, 'habilidade': ['bola de fogo', ' raio de gelo'], 'tem espada': True}\n"
     ]
    }
   ],
   "source": [
    "personagem = {'nome' : 'jorge',\n",
    "              'LVL' : 1,\n",
    "              'Classe' : 'trabalhador',\n",
    "              'altura' : 1.90,\n",
    "              'habilidade' : ['bola de fogo', ' raio de gelo'],\n",
    "              'tem espada' : True\n",
    "             }\n",
    "print(personagem)"
   ]
  },
  {
   "cell_type": "code",
   "execution_count": 19,
   "id": "28f3c75c-88d8-42a8-9842-8c99b0ac96f9",
   "metadata": {},
   "outputs": [
    {
     "name": "stdout",
     "output_type": "stream",
     "text": [
      " raio de gelo\n"
     ]
    }
   ],
   "source": [
    "print(personagem['habilidade'][1])"
   ]
  },
  {
   "cell_type": "code",
   "execution_count": 25,
   "id": "6e389b38-04b0-4a09-83e3-eefbf082c6e2",
   "metadata": {},
   "outputs": [],
   "source": [
    "personagem['especial'] = 'impulso todo poderoso'\n",
    "personagem['vida'] = 1\n",
    "personagem['resistencia'] = 999"
   ]
  },
  {
   "cell_type": "raw",
   "id": "3e31b72a-4e37-472f-9b69-22294833f614",
   "metadata": {},
   "source": [
    "personagem = {'nome'"
   ]
  }
 ],
 "metadata": {
  "kernelspec": {
   "display_name": "Python [conda env:base] *",
   "language": "python",
   "name": "conda-base-py"
  },
  "language_info": {
   "codemirror_mode": {
    "name": "ipython",
    "version": 3
   },
   "file_extension": ".py",
   "mimetype": "text/x-python",
   "name": "python",
   "nbconvert_exporter": "python",
   "pygments_lexer": "ipython3",
   "version": "3.12.7"
  }
 },
 "nbformat": 4,
 "nbformat_minor": 5
}
